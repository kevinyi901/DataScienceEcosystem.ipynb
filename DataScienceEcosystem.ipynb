{
 "cells": [
  {
   "cell_type": "markdown",
   "id": "06feaa7f",
   "metadata": {},
   "source": [
    "# Data Science Tools and Ecosystem"
   ]
  },
  {
   "cell_type": "markdown",
   "id": "176349b7",
   "metadata": {},
   "source": [
    "In this notebook, Data Science Tools and Ecosystem are summarized.\n"
   ]
  },
  {
   "cell_type": "markdown",
   "id": "61c21ec3",
   "metadata": {},
   "source": [
    "## Objectives:\n",
    "\n",
    "- List popular languages for Data Science\n",
    "- Introductions to Gitlab and how to use it. \n",
    "- Introductions to R Studio and how to use it.\n",
    "- Introductions to Jupyter Notebook and how to use it.\n",
    "\n"
   ]
  },
  {
   "cell_type": "markdown",
   "id": "0e5c1413",
   "metadata": {},
   "source": [
    "## Author\n",
    "Kevin Yi"
   ]
  },
  {
   "cell_type": "markdown",
   "id": "b1536803",
   "metadata": {},
   "source": [
    "Some of the popular languages that Data Scientists use are:\n",
    "1. C++\n",
    "2. Python\n",
    "4. Java \n"
   ]
  },
  {
   "cell_type": "markdown",
   "id": "ccd6f1ea",
   "metadata": {},
   "source": [
    "Some of the commonly used libraries used by Data Scientists include:\n",
    "\n",
    "1. NumPy\n",
    "2. sciPy\n",
    "3. Pandas"
   ]
  },
  {
   "attachments": {},
   "cell_type": "markdown",
   "id": "e3cb40a4",
   "metadata": {},
   "source": [
    "\n",
    "| Data Science Tools |\n",
    "| -------------| \n",
    "| Jupyter | \n",
    "| R Studio | \n",
    "| Anaconda |"
   ]
  },
  {
   "cell_type": "markdown",
   "id": "0bb01187",
   "metadata": {},
   "source": [
    "### Below are a few examples of evaluating arithmetic expressions in Python"
   ]
  },
  {
   "cell_type": "code",
   "execution_count": 2,
   "id": "24760b5e",
   "metadata": {},
   "outputs": [
    {
     "data": {
      "text/plain": [
       "17"
      ]
     },
     "execution_count": 2,
     "metadata": {},
     "output_type": "execute_result"
    }
   ],
   "source": [
    "# This a simple arithmetic expression to mutiply then add integers\n",
    "\n",
    "(3*4)+5"
   ]
  },
  {
   "cell_type": "code",
   "execution_count": 16,
   "id": "a075245c",
   "metadata": {},
   "outputs": [
    {
     "name": "stdout",
     "output_type": "stream",
     "text": [
      "3.3333333333333335\n"
     ]
    }
   ],
   "source": [
    "# This will convert 200 minutes to hours by diving by 60\n",
    "\n",
    "Hours = 200/60\n",
    "print(Hours)\n"
   ]
  },
  {
   "cell_type": "code",
   "execution_count": null,
   "id": "82b14ded",
   "metadata": {},
   "outputs": [],
   "source": []
  }
 ],
 "metadata": {
  "kernelspec": {
   "display_name": "Python 3 (ipykernel)",
   "language": "python",
   "name": "python3"
  },
  "language_info": {
   "codemirror_mode": {
    "name": "ipython",
    "version": 3
   },
   "file_extension": ".py",
   "mimetype": "text/x-python",
   "name": "python",
   "nbconvert_exporter": "python",
   "pygments_lexer": "ipython3",
   "version": "3.11.4"
  }
 },
 "nbformat": 4,
 "nbformat_minor": 5
}
